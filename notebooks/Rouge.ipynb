{
 "cells": [
  {
   "cell_type": "code",
   "execution_count": 1,
   "metadata": {},
   "outputs": [],
   "source": [
    "from rouge import Rouge\n",
    "import glob\n",
    "import os\n",
    "import re\n",
    "import pandas as pd\n",
    "\n",
    "#goldSummaries = glob.glob(r'..data/raw/OpinosisDataset1.0_0/summaries-gold/*/')\n",
    "gold_summaries = os.walk(r'../data/raw/OpinosisDataset1.0_0/summaries-gold')\n",
    "gold_list = next(gold_summaries)[1]"
   ]
  },
  {
   "cell_type": "code",
   "execution_count": 9,
   "metadata": {},
   "outputs": [],
   "source": [
    "def rouge_evaluation(summaryfiles_dir, summaryDir):\n",
    "    summaryFiles = glob.glob(summaryfiles_dir)\n",
    "    rouge_1_scores_list = []\n",
    "    rouge_2_scores_list = []\n",
    "    rouge_l_scores_list = []\n",
    "    for h in summaryFiles:\n",
    "        foldername_search = re.search(r'[^\\\\/:*?\"<>|\\r\\n]+$', h)\n",
    "        foldername = (foldername_search.group()).split('.')[0]\n",
    "        with open(h, 'r') as f:\n",
    "            hypothesis = f.read()\n",
    "            if foldername in gold_list:\n",
    "                files = glob.glob(summaryDir+foldername+'/*')\n",
    "                foldername = ' '.join(foldername.split('_'))\n",
    "                for r in files:\n",
    "                    with open(r, 'r') as f:\n",
    "                        reference = f.read()\n",
    "                        rouge = Rouge()\n",
    "                        scores = rouge.get_scores(hypothesis, reference)[0]\n",
    "                        rouge_1_scores_list.append(pd.DataFrame(scores['rouge-1'], index=[foldername]))\n",
    "                        rouge_2_scores_list.append(pd.DataFrame(scores['rouge-2'], index=[foldername]))\n",
    "                        rouge_l_scores_list.append(pd.DataFrame(scores['rouge-l'], index=[foldername]))\n",
    "                        rouge_1_df = pd.concat(rouge_1_scores_list)\n",
    "                        rouge_2_df = pd.concat(rouge_2_scores_list)\n",
    "                        rouge_l_df = pd.concat(rouge_l_scores_list)\n",
    "    return rouge_1_df, rouge_2_df, rouge_l_df"
   ]
  },
  {
   "cell_type": "code",
   "execution_count": 10,
   "metadata": {},
   "outputs": [],
   "source": [
    "textrank_rouge_1, textrank_rouge_2, textrank_rouge_l = rouge_evaluation(r'../data/processed/textrank/*', '../data/raw/OpinosisDataset1.0_0/summaries-gold/')"
   ]
  },
  {
   "cell_type": "code",
   "execution_count": 11,
   "metadata": {},
   "outputs": [],
   "source": [
    "lexrank_rouge_1, lexrank_rouge_2, lexrank_rouge_l = rouge_evaluation(r'../data/processed/lexrank/*', '../data/raw/OpinosisDataset1.0_0/summaries-gold/')"
   ]
  },
  {
   "cell_type": "code",
   "execution_count": 12,
   "metadata": {},
   "outputs": [],
   "source": [
    "opinosis_rouge_1, opinosis_rouge_2, opinosis_rouge_l = rouge_evaluation(r'../data/processed/opinosis/*', '../data/raw/OpinosisDataset1.0_0/summaries-gold/')"
   ]
  },
  {
   "cell_type": "code",
   "execution_count": 14,
   "metadata": {},
   "outputs": [],
   "source": [
    "textrank_rouge_1.describe().round(3).to_csv('textrank_rouge_1_stats.csv')\n",
    "textrank_rouge_2.describe().round(3).to_csv('textrank_rouge_2_stats.csv')\n",
    "textrank_rouge_l.describe().round(3).to_csv('textrank_rouge_l_stats.csv')"
   ]
  },
  {
   "cell_type": "code",
   "execution_count": 15,
   "metadata": {},
   "outputs": [],
   "source": [
    "lexrank_rouge_1.describe().round(3).to_csv('lexrank_rouge_1_stats.csv')\n",
    "lexrank_rouge_2.describe().round(3).to_csv('lexrank_rouge_2_stats.csv')\n",
    "lexrank_rouge_l.describe().round(3).to_csv('lexrank_rouge_l_stats.csv')"
   ]
  },
  {
   "cell_type": "code",
   "execution_count": 16,
   "metadata": {},
   "outputs": [],
   "source": [
    "opinosis_rouge_1.describe().round(3).to_csv('opinosis_rouge_1_stats.csv')\n",
    "opinosis_rouge_2.describe().round(3).to_csv('opinosis_rouge_2_stats.csv')\n",
    "opinosis_rouge_l.describe().round(3).to_csv('opinosis_rouge_l_stats.csv')"
   ]
  },
  {
   "cell_type": "code",
   "execution_count": 17,
   "metadata": {},
   "outputs": [
    {
     "data": {
      "text/plain": [
       "(238, 3)"
      ]
     },
     "execution_count": 17,
     "metadata": {},
     "output_type": "execute_result"
    }
   ],
   "source": [
    "textrank_rouge_1.shape"
   ]
  },
  {
   "cell_type": "code",
   "execution_count": 18,
   "metadata": {},
   "outputs": [
    {
     "data": {
      "text/plain": [
       "(238, 3)"
      ]
     },
     "execution_count": 18,
     "metadata": {},
     "output_type": "execute_result"
    }
   ],
   "source": [
    "lexrank_rouge_1.shape"
   ]
  },
  {
   "cell_type": "code",
   "execution_count": 19,
   "metadata": {},
   "outputs": [
    {
     "data": {
      "text/plain": [
       "(238, 3)"
      ]
     },
     "execution_count": 19,
     "metadata": {},
     "output_type": "execute_result"
    }
   ],
   "source": [
    "opinosis_rouge_1.shape"
   ]
  },
  {
   "cell_type": "code",
   "execution_count": 20,
   "metadata": {},
   "outputs": [],
   "source": [
    "from scipy.stats import f_oneway"
   ]
  },
  {
   "cell_type": "code",
   "execution_count": null,
   "metadata": {},
   "outputs": [],
   "source": []
  }
 ],
 "metadata": {
  "kernelspec": {
   "display_name": "Python 3",
   "language": "python",
   "name": "python3"
  },
  "language_info": {
   "codemirror_mode": {
    "name": "ipython",
    "version": 3
   },
   "file_extension": ".py",
   "mimetype": "text/x-python",
   "name": "python",
   "nbconvert_exporter": "python",
   "pygments_lexer": "ipython3",
   "version": "3.6.5"
  }
 },
 "nbformat": 4,
 "nbformat_minor": 2
}
