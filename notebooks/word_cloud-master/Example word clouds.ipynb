{
 "cells": [
  {
   "cell_type": "code",
   "execution_count": 1,
   "metadata": {},
   "outputs": [
    {
     "name": "stderr",
     "output_type": "stream",
     "text": [
      "C:\\Users\\obiam\\Anaconda3\\lib\\site-packages\\gensim\\utils.py:1197: UserWarning: detected Windows; aliasing chunkize to chunkize_serial\n",
      "  warnings.warn(\"detected Windows; aliasing chunkize to chunkize_serial\")\n"
     ]
    }
   ],
   "source": [
    "from word_cloud.word_cloud_generator import WordCloud\n",
    "from IPython.core.display import HTML\n",
    "import nltk\n",
    "import pandas as pd\n",
    "import glob\n",
    "from gensim.summarization.textcleaner import split_sentences"
   ]
  },
  {
   "cell_type": "code",
   "execution_count": 2,
   "metadata": {},
   "outputs": [],
   "source": [
    "ENGLISH_STOP_WORDS = frozenset([\n",
    "    \"a\", \"about\", \"above\", \"across\", \"after\", \"afterwards\", \"again\", \"against\",\n",
    "    \"all\", \"almost\", \"alone\", \"along\", \"already\", \"also\", \"although\", \"always\",\n",
    "    \"am\", \"among\", \"amongst\", \"amoungst\", \"amount\", \"an\", \"and\", \"another\",\n",
    "    \"any\", \"anyhow\", \"anyone\", \"anything\", \"anyway\", \"anywhere\", \"are\",\n",
    "    \"around\", \"as\", \"at\", \"back\", \"be\", \"became\", \"because\", \"become\",\n",
    "    \"becomes\", \"becoming\", \"been\", \"before\", \"beforehand\", \"behind\", \"being\",\n",
    "    \"below\", \"beside\", \"besides\", \"between\", \"beyond\", \"bill\", \"both\",\n",
    "    \"bottom\", \"but\", \"by\", \"call\", \"can\", \"cannot\", \"cant\", \"co\", \"con\",\n",
    "    \"could\", \"couldnt\", \"cry\", \"de\", \"describe\", \"detail\", \"do\", \"done\",\n",
    "    \"down\", \"due\", \"during\", \"each\", \"eg\", \"eight\", \"either\", \"eleven\", \"else\",\n",
    "    \"elsewhere\", \"empty\", \"enough\", \"etc\", \"even\", \"ever\", \"every\", \"everyone\",\n",
    "    \"everything\", \"everywhere\", \"except\", \"few\", \"fifteen\", \"fifty\", \"fill\",\n",
    "    \"find\", \"fire\", \"first\", \"five\", \"for\", \"former\", \"formerly\", \"forty\",\n",
    "    \"found\", \"four\", \"from\", \"front\", \"full\", \"further\", \"get\", \"give\", \"go\",\n",
    "    \"had\", \"has\", \"hasnt\", \"have\", \"he\", \"hence\", \"her\", \"here\", \"hereafter\",\n",
    "    \"hereby\", \"herein\", \"hereupon\", \"hers\", \"herself\", \"him\", \"himself\", \"his\",\n",
    "    \"how\", \"however\", \"hundred\", \"i\", \"ie\", \"if\", \"in\", \"inc\", \"indeed\",\n",
    "    \"interest\", \"into\", \"is\", \"it\", \"its\", \"itself\", \"keep\", \"last\", \"latter\",\n",
    "    \"latterly\", \"least\", \"less\", \"ltd\", \"made\", \"many\", \"may\", \"me\",\n",
    "    \"meanwhile\", \"might\", \"mill\", \"mine\", \"more\", \"moreover\", \"most\", \"mostly\",\n",
    "    \"move\", \"much\", \"must\", \"my\", \"myself\", \"name\", \"namely\", \"neither\",\n",
    "    \"never\", \"nevertheless\", \"next\", \"nine\", \"no\", \"nobody\", \"none\", \"noone\",\n",
    "    \"nor\", \"not\", \"nothing\", \"now\", \"nowhere\", \"of\", \"off\", \"often\", \"on\",\n",
    "    \"once\", \"one\", \"only\", \"onto\", \"or\", \"other\", \"others\", \"otherwise\", \"our\",\n",
    "    \"ours\", \"ourselves\", \"out\", \"over\", \"own\", \"part\", \"per\", \"perhaps\",\n",
    "    \"please\", \"put\", \"rather\", \"re\", \"same\", \"see\", \"seem\", \"seemed\",\n",
    "    \"seeming\", \"seems\", \"serious\", \"several\", \"she\", \"should\", \"show\", \"side\",\n",
    "    \"since\", \"sincere\", \"six\", \"sixty\", \"so\", \"some\", \"somehow\", \"someone\",\n",
    "    \"something\", \"sometime\", \"sometimes\", \"somewhere\", \"still\", \"such\",\n",
    "    \"system\", \"take\", \"ten\", \"than\", \"that\", \"the\", \"their\", \"them\",\n",
    "    \"themselves\", \"then\", \"thence\", \"there\", \"thereafter\", \"thereby\",\n",
    "    \"therefore\", \"therein\", \"thereupon\", \"these\", \"they\", \"thick\", \"thin\",\n",
    "    \"third\", \"this\", \"those\", \"though\", \"three\", \"through\", \"throughout\",\n",
    "    \"thru\", \"thus\", \"to\", \"together\", \"too\", \"top\", \"toward\", \"towards\",\n",
    "    \"twelve\", \"twenty\", \"two\", \"un\", \"under\", \"until\", \"up\", \"upon\", \"us\",\n",
    "    \"very\", \"via\", \"was\", \"we\", \"well\", \"were\", \"what\", \"whatever\", \"when\",\n",
    "    \"whence\", \"whenever\", \"where\", \"whereafter\", \"whereas\", \"whereby\",\n",
    "    \"wherein\", \"whereupon\", \"wherever\", \"whether\", \"which\", \"while\", \"whither\",\n",
    "    \"who\", \"whoever\", \"whole\", \"whom\", \"whose\", \"why\", \"will\", \"with\",\n",
    "    \"within\", \"without\", \"would\", \"yet\", \"said\",\"you\", \"your\", \"yours\", \"yourself\",\n",
    "    \"yourselves\"])\n"
   ]
  },
  {
   "cell_type": "code",
   "execution_count": 3,
   "metadata": {},
   "outputs": [],
   "source": [
    "path = r'../../data/raw/OpinosisDataset1.0_0/topics/'\n",
    "allFiles = glob.glob(path + \"/*.data\")\n",
    "reviews = list()\n",
    "tf_idf = dict()\n",
    "for file_ in allFiles:\n",
    "    with open(file_, \"r\") as f:\n",
    "        review = split_sentences(f.read())\n",
    "        reviews.append(review)\n",
    "wc=WordCloud(use_tfidf=True,stopwords=ENGLISH_STOP_WORDS)"
   ]
  },
  {
   "cell_type": "code",
   "execution_count": 4,
   "metadata": {},
   "outputs": [
    {
     "data": {
      "text/html": [
       "<div align='center' style='width:100%'><div align='center' style='text-align:justify; border-radius: 25px;background: #fff7f7;overflow: auto; width:500px !important; padding:20px; '; text-align: center; word-wrap: break-word;> <span style='color:#848484;font-size:0.9500000000000001em;white-space: normal;font-family:verdana;display: inline-block;line-height:30px'>use&nbsp;</span> <span style='color:#848484;font-size:0.9500000000000001em;white-space: normal;font-family:verdana;display: inline-block;line-height:30px'>garmin&nbsp;</span> <span style='color:#848484;font-size:0.9500000000000001em;white-space: normal;font-family:verdana;display: inline-block;line-height:30px'>used&nbsp;</span> <span style='color:#848484;font-size:0.9500000000000001em;white-space: normal;font-family:verdana;display: inline-block;line-height:30px'>100&nbsp;</span> <span style='color:#848484;font-size:0.9500000000000001em;white-space: normal;font-family:verdana;display: inline-block;line-height:30px'>ve&nbsp;</span> <span style='color:#8000FF;font-size:1.1em;white-space: normal;font-family:verdana;display: inline-block;line-height:30px'>easy&nbsp;</span> <span style='color:#6C22E6;font-size:0.8em;white-space: normal;font-family:verdana;display: inline-block;line-height:30px'>street&nbsp;</span> <span style='color:#848484;font-size:0.9500000000000001em;white-space: normal;font-family:verdana;display: inline-block;line-height:30px'>speed&nbsp;</span> <span style='color:#8000FF;font-size:1.1em;white-space: normal;font-family:verdana;display: inline-block;line-height:30px'>directions&nbsp;</span> <span style='color:#DBA901;font-size:1.25em;white-space: normal;font-family:verdana;display: inline-block;line-height:30px'>accuracy&nbsp;</span> <span style='color:#ACB02E;font-size:1.8499999999999996em;white-space: normal;font-family:verdana;display: inline-block;line-height:30px'>accurate&nbsp;</span> <span style='color:#848484;font-size:0.9500000000000001em;white-space: normal;font-family:verdana;display: inline-block;line-height:30px'>tell&nbsp;</span> <span style='color:#848484;font-size:0.9500000000000001em;white-space: normal;font-family:verdana;display: inline-block;line-height:30px'>destination&nbsp;</span> <span style='color:#848484;font-size:0.9500000000000001em;white-space: normal;font-family:verdana;display: inline-block;line-height:30px'>point&nbsp;</span> <span style='color:#848484;font-size:0.9500000000000001em;white-space: normal;font-family:verdana;display: inline-block;line-height:30px'>time&nbsp;</span> <span style='color:#848484;font-size:0.9500000000000001em;white-space: normal;font-family:verdana;display: inline-block;line-height:30px'>unit&nbsp;</span> <span style='color:#8000FF;font-size:1.1em;white-space: normal;font-family:verdana;display: inline-block;line-height:30px'>map&nbsp;</span> <span style='color:#848484;font-size:0.9500000000000001em;white-space: normal;font-family:verdana;display: inline-block;line-height:30px'>good&nbsp;</span> <span style='color:#848484;font-size:0.9500000000000001em;white-space: normal;font-family:verdana;display: inline-block;line-height:30px'>turn&nbsp;</span> <span style='color:#DBA901;font-size:1.25em;white-space: normal;font-family:verdana;display: inline-block;line-height:30px'>gps&nbsp;</span></div></div>"
      ],
      "text/plain": [
       "<IPython.core.display.HTML object>"
      ]
     },
     "execution_count": 4,
     "metadata": {},
     "output_type": "execute_result"
    }
   ],
   "source": [
    "embed_code=wc.get_embed_code(text=reviews[0],random_color=True,topn=20)\n",
    "HTML(embed_code)"
   ]
  },
  {
   "cell_type": "code",
   "execution_count": 5,
   "metadata": {},
   "outputs": [
    {
     "data": {
      "text/html": [
       "<div align='center' style='width:100%'><div align='center' style='text-align:justify; border-radius: 25px;background: #fff7f7;overflow: auto; width:500px !important; padding:20px; '; text-align: center; word-wrap: break-word;> <span style='color:#8000FF;font-size:0.9500000000000001em;white-space: normal;font-family:verdana;display: inline-block;line-height:30px'>big&nbsp;</span> <span style='color:#8000FF;font-size:0.9500000000000001em;white-space: normal;font-family:verdana;display: inline-block;line-height:30px'>bed&nbsp;</span> <span style='color:#0489B1;font-size:1.1em;white-space: normal;font-family:verdana;display: inline-block;line-height:30px'>nice&nbsp;</span> <span style='color:#008080;font-size:0.8em;white-space: normal;font-family:verdana;display: inline-block;line-height:30px'>hotel&nbsp;</span> <span style='color:#CE22E6;font-size:1.4em;white-space: normal;font-family:verdana;display: inline-block;line-height:30px'>clean&nbsp;</span> <span style='color:#0489B1;font-size:1.1em;white-space: normal;font-family:verdana;display: inline-block;line-height:30px'>rooms&nbsp;</span> <span style='color:#008080;font-size:0.8em;white-space: normal;font-family:verdana;display: inline-block;line-height:30px'>quite&nbsp;</span> <span style='color:#8000FF;font-size:0.9500000000000001em;white-space: normal;font-family:verdana;display: inline-block;line-height:30px'>door&nbsp;</span> <span style='color:#0489B1;font-size:1.1em;white-space: normal;font-family:verdana;display: inline-block;line-height:30px'>sink&nbsp;</span> <span style='color:#0489B1;font-size:1.1em;white-space: normal;font-family:verdana;display: inline-block;line-height:30px'>small&nbsp;</span> <span style='color:#8000FF;font-size:0.9500000000000001em;white-space: normal;font-family:verdana;display: inline-block;line-height:30px'>shower&nbsp;</span> <span style='color:#8000FF;font-size:0.9500000000000001em;white-space: normal;font-family:verdana;display: inline-block;line-height:30px'>comfortable&nbsp;</span> <span style='color:#0489B1;font-size:1.1em;white-space: normal;font-family:verdana;display: inline-block;line-height:30px'>large&nbsp;</span> <span style='color:#8000FF;font-size:0.9500000000000001em;white-space: normal;font-family:verdana;display: inline-block;line-height:30px'>plenty&nbsp;</span> <span style='color:#008080;font-size:0.8em;white-space: normal;font-family:verdana;display: inline-block;line-height:30px'>little&nbsp;</span> <span style='color:#008080;font-size:0.8em;white-space: normal;font-family:verdana;display: inline-block;line-height:30px'>space&nbsp;</span> <span style='color:#DBA901;font-size:1.8499999999999996em;white-space: normal;font-family:verdana;display: inline-block;line-height:30px'>bathroom&nbsp;</span> <span style='color:#00b4ff;font-size:1.6999999999999997em;white-space: normal;font-family:verdana;display: inline-block;line-height:30px'>room&nbsp;</span> <span style='color:#8000FF;font-size:0.9500000000000001em;white-space: normal;font-family:verdana;display: inline-block;line-height:30px'>good&nbsp;</span> <span style='color:#0489B1;font-size:1.1em;white-space: normal;font-family:verdana;display: inline-block;line-height:30px'>bathrooms&nbsp;</span></div></div>"
      ],
      "text/plain": [
       "<IPython.core.display.HTML object>"
      ]
     },
     "execution_count": 5,
     "metadata": {},
     "output_type": "execute_result"
    }
   ],
   "source": [
    "embed_code=wc.get_embed_code(text=reviews[1],random_color=True,topn=20)\n",
    "HTML(embed_code)"
   ]
  },
  {
   "cell_type": "code",
   "execution_count": 6,
   "metadata": {},
   "outputs": [
    {
     "data": {
      "text/html": [
       "<div align='center' style='width:100%'><div align='center' style='text-align:justify; border-radius: 25px;background: #fff7f7;overflow: auto; width:500px !important; padding:20px; '; text-align: center; word-wrap: break-word;> <span style='color:#04B404;font-size:0.9500000000000001em;white-space: normal;font-family:verdana;display: inline-block;line-height:30px'>use&nbsp;</span> <span style='color:#848484;font-size:0.8em;white-space: normal;font-family:verdana;display: inline-block;line-height:30px'>plus&nbsp;</span> <span style='color:#04B404;font-size:0.9500000000000001em;white-space: normal;font-family:verdana;display: inline-block;line-height:30px'>like&nbsp;</span> <span style='color:#04B404;font-size:0.9500000000000001em;white-space: normal;font-family:verdana;display: inline-block;line-height:30px'>wireless&nbsp;</span> <span style='color:#04B404;font-size:0.9500000000000001em;white-space: normal;font-family:verdana;display: inline-block;line-height:30px'>user&nbsp;</span> <span style='color:#848484;font-size:0.8em;white-space: normal;font-family:verdana;display: inline-block;line-height:30px'>days&nbsp;</span> <span style='color:#04B404;font-size:0.9500000000000001em;white-space: normal;font-family:verdana;display: inline-block;line-height:30px'>time&nbsp;</span> <span style='color:#04B404;font-size:0.9500000000000001em;white-space: normal;font-family:verdana;display: inline-block;line-height:30px'>power&nbsp;</span> <span style='color:#848484;font-size:0.8em;white-space: normal;font-family:verdana;display: inline-block;line-height:30px'>thing&nbsp;</span> <span style='color:#FF5733;font-size:1.1em;white-space: normal;font-family:verdana;display: inline-block;line-height:30px'>charge&nbsp;</span> <span style='color:#848484;font-size:0.8em;white-space: normal;font-family:verdana;display: inline-block;line-height:30px'>screen&nbsp;</span> <span style='color:#848484;font-size:0.8em;white-space: normal;font-family:verdana;display: inline-block;line-height:30px'>longer&nbsp;</span> <span style='color:#848484;font-size:0.8em;white-space: normal;font-family:verdana;display: inline-block;line-height:30px'>extra&nbsp;</span> <span style='color:#725394;font-size:1.25em;white-space: normal;font-family:verdana;display: inline-block;line-height:30px'>kindle&nbsp;</span> <span style='color:#04B404;font-size:0.9500000000000001em;white-space: normal;font-family:verdana;display: inline-block;line-height:30px'>reading&nbsp;</span> <span style='color:#848484;font-size:0.8em;white-space: normal;font-family:verdana;display: inline-block;line-height:30px'>long&nbsp;</span> <span style='color:#FF5733;font-size:1.1em;white-space: normal;font-family:verdana;display: inline-block;line-height:30px'>hours&nbsp;</span> <span style='color:#a55571;font-size:1.8499999999999996em;white-space: normal;font-family:verdana;display: inline-block;line-height:30px'>battery&nbsp;</span> <span style='color:#848484;font-size:0.8em;white-space: normal;font-family:verdana;display: inline-block;line-height:30px'>lasts&nbsp;</span> <span style='color:#2ECC71;font-size:1.4em;white-space: normal;font-family:verdana;display: inline-block;line-height:30px'>life&nbsp;</span></div></div>"
      ],
      "text/plain": [
       "<IPython.core.display.HTML object>"
      ]
     },
     "execution_count": 6,
     "metadata": {},
     "output_type": "execute_result"
    }
   ],
   "source": [
    "embed_code=wc.get_embed_code(text=reviews[2],random_color=True,topn=20)\n",
    "HTML(embed_code)"
   ]
  },
  {
   "cell_type": "code",
   "execution_count": 7,
   "metadata": {},
   "outputs": [
    {
     "data": {
      "text/html": [
       "<div align='center' style='width:100%'><div align='center' style='text-align:justify; border-radius: 25px;background: #fff7f7;overflow: auto; width:500px !important; padding:20px; '; text-align: center; word-wrap: break-word;> <span style='color:#848484;font-size:1.6999999999999997em;white-space: normal;font-family:verdana;display: inline-block;line-height:30px'>battery&nbsp;</span> <span style='color:#2ECC71;font-size:1.1em;white-space: normal;font-family:verdana;display: inline-block;line-height:30px'>long&nbsp;</span> <span style='color:#a55571;font-size:0.9500000000000001em;white-space: normal;font-family:verdana;display: inline-block;line-height:30px'>short&nbsp;</span> <span style='color:#725394;font-size:1.25em;white-space: normal;font-family:verdana;display: inline-block;line-height:30px'>great&nbsp;</span> <span style='color:#2ECC71;font-size:1.1em;white-space: normal;font-family:verdana;display: inline-block;line-height:30px'>use&nbsp;</span> <span style='color:#a55571;font-size:0.9500000000000001em;white-space: normal;font-family:verdana;display: inline-block;line-height:30px'>time&nbsp;</span> <span style='color:#DBA901;font-size:0.8em;white-space: normal;font-family:verdana;display: inline-block;line-height:30px'>replace&nbsp;</span> <span style='color:#DBA901;font-size:0.8em;white-space: normal;font-family:verdana;display: inline-block;line-height:30px'>quality&nbsp;</span> <span style='color:#a55571;font-size:0.9500000000000001em;white-space: normal;font-family:verdana;display: inline-block;line-height:30px'>like&nbsp;</span> <span style='color:#a55571;font-size:0.9500000000000001em;white-space: normal;font-family:verdana;display: inline-block;line-height:30px'>nano&nbsp;</span> <span style='color:#DBA901;font-size:0.8em;white-space: normal;font-family:verdana;display: inline-block;line-height:30px'>just&nbsp;</span> <span style='color:#a55571;font-size:0.9500000000000001em;white-space: normal;font-family:verdana;display: inline-block;line-height:30px'>good&nbsp;</span> <span style='color:#DBA901;font-size:0.8em;white-space: normal;font-family:verdana;display: inline-block;line-height:30px'>lasts&nbsp;</span> <span style='color:#a55571;font-size:0.9500000000000001em;white-space: normal;font-family:verdana;display: inline-block;line-height:30px'>gen&nbsp;</span> <span style='color:#DBA901;font-size:0.8em;white-space: normal;font-family:verdana;display: inline-block;line-height:30px'>love&nbsp;</span> <span style='color:#FF0080;font-size:1.5499999999999998em;white-space: normal;font-family:verdana;display: inline-block;line-height:30px'>life&nbsp;</span> <span style='color:#a55571;font-size:0.9500000000000001em;white-space: normal;font-family:verdana;display: inline-block;line-height:30px'>easy&nbsp;</span> <span style='color:#a55571;font-size:0.9500000000000001em;white-space: normal;font-family:verdana;display: inline-block;line-height:30px'>thing&nbsp;</span> <span style='color:#a55571;font-size:0.9500000000000001em;white-space: normal;font-family:verdana;display: inline-block;line-height:30px'>new&nbsp;</span> <span style='color:#5882FA;font-size:1.4em;white-space: normal;font-family:verdana;display: inline-block;line-height:30px'>ipod&nbsp;</span></div></div>"
      ],
      "text/plain": [
       "<IPython.core.display.HTML object>"
      ]
     },
     "execution_count": 7,
     "metadata": {},
     "output_type": "execute_result"
    }
   ],
   "source": [
    "embed_code=wc.get_embed_code(text=reviews[3],random_color=True,topn=20)\n",
    "HTML(embed_code)"
   ]
  },
  {
   "cell_type": "code",
   "execution_count": 8,
   "metadata": {},
   "outputs": [
    {
     "data": {
      "text/html": [
       "<div align='center' style='width:100%'><div align='center' style='text-align:justify; border-radius: 25px;background: #fff7f7;overflow: auto; width:500px !important; padding:20px; '; text-align: center; word-wrap: break-word;> <span style='color:#DBA901;font-size:0.8em;white-space: normal;font-family:verdana;display: inline-block;line-height:30px'>laptop&nbsp;</span> <span style='color:#a55571;font-size:1.9999999999999996em;white-space: normal;font-family:verdana;display: inline-block;line-height:30px'>battery&nbsp;</span> <span style='color:#00b4ff;font-size:0.9500000000000001em;white-space: normal;font-family:verdana;display: inline-block;line-height:30px'>power&nbsp;</span> <span style='color:#00b4ff;font-size:0.9500000000000001em;white-space: normal;font-family:verdana;display: inline-block;line-height:30px'>great&nbsp;</span> <span style='color:#003366;font-size:1.6999999999999997em;white-space: normal;font-family:verdana;display: inline-block;line-height:30px'>life&nbsp;</span> <span style='color:#DBA901;font-size:0.8em;white-space: normal;font-family:verdana;display: inline-block;line-height:30px'>eee&nbsp;</span> <span style='color:#DBA901;font-size:0.8em;white-space: normal;font-family:verdana;display: inline-block;line-height:30px'>screen&nbsp;</span> <span style='color:#00b4ff;font-size:0.9500000000000001em;white-space: normal;font-family:verdana;display: inline-block;line-height:30px'>hour&nbsp;</span> <span style='color:#00b4ff;font-size:0.9500000000000001em;white-space: normal;font-family:verdana;display: inline-block;line-height:30px'>10&nbsp;</span> <span style='color:#5F6A6A;font-size:1.1em;white-space: normal;font-family:verdana;display: inline-block;line-height:30px'>netbook&nbsp;</span> <span style='color:#5F6A6A;font-size:1.1em;white-space: normal;font-family:verdana;display: inline-block;line-height:30px'>long&nbsp;</span> <span style='color:#00b4ff;font-size:0.9500000000000001em;white-space: normal;font-family:verdana;display: inline-block;line-height:30px'>computer&nbsp;</span> <span style='color:#00b4ff;font-size:0.9500000000000001em;white-space: normal;font-family:verdana;display: inline-block;line-height:30px'>time&nbsp;</span> <span style='color:#00b4ff;font-size:0.9500000000000001em;white-space: normal;font-family:verdana;display: inline-block;line-height:30px'>charge&nbsp;</span> <span style='color:#DBA901;font-size:0.8em;white-space: normal;font-family:verdana;display: inline-block;line-height:30px'>charger&nbsp;</span> <span style='color:#DBA901;font-size:0.8em;white-space: normal;font-family:verdana;display: inline-block;line-height:30px'>performance&nbsp;</span> <span style='color:#DBA901;font-size:0.8em;white-space: normal;font-family:verdana;display: inline-block;line-height:30px'>use&nbsp;</span> <span style='color:#00b4ff;font-size:0.9500000000000001em;white-space: normal;font-family:verdana;display: inline-block;line-height:30px'>asus&nbsp;</span> <span style='color:#DBA901;font-size:0.8em;white-space: normal;font-family:verdana;display: inline-block;line-height:30px'>machine&nbsp;</span> <span style='color:#5F6A6A;font-size:1.1em;white-space: normal;font-family:verdana;display: inline-block;line-height:30px'>hours&nbsp;</span></div></div>"
      ],
      "text/plain": [
       "<IPython.core.display.HTML object>"
      ]
     },
     "execution_count": 8,
     "metadata": {},
     "output_type": "execute_result"
    }
   ],
   "source": [
    "embed_code=wc.get_embed_code(text=reviews[4],random_color=True,topn=20)\n",
    "HTML(embed_code)"
   ]
  },
  {
   "cell_type": "code",
   "execution_count": 9,
   "metadata": {},
   "outputs": [
    {
     "data": {
      "text/html": [
       "<div align='center' style='width:100%'><div align='center' style='text-align:justify; border-radius: 25px;background: #fff7f7;overflow: auto; width:500px !important; padding:20px; '; text-align: center; word-wrap: break-word;> <span style='color:#6C22E6;font-size:0.8em;white-space: normal;font-family:verdana;display: inline-block;line-height:30px'>tiny&nbsp;</span> <span style='color:#FA5858;font-size:1.1em;white-space: normal;font-family:verdana;display: inline-block;line-height:30px'>kindle&nbsp;</span> <span style='color:#6C22E6;font-size:0.8em;white-space: normal;font-family:verdana;display: inline-block;line-height:30px'>size&nbsp;</span> <span style='color:#6C22E6;font-size:0.8em;white-space: normal;font-family:verdana;display: inline-block;line-height:30px'>previous&nbsp;</span> <span style='color:#848484;font-size:1.6999999999999997em;white-space: normal;font-family:verdana;display: inline-block;line-height:30px'>button&nbsp;</span> <span style='color:#223AE6;font-size:0.9500000000000001em;white-space: normal;font-family:verdana;display: inline-block;line-height:30px'>like&nbsp;</span> <span style='color:#223AE6;font-size:0.9500000000000001em;white-space: normal;font-family:verdana;display: inline-block;line-height:30px'>hit&nbsp;</span> <span style='color:#223AE6;font-size:0.9500000000000001em;white-space: normal;font-family:verdana;display: inline-block;line-height:30px'>hard&nbsp;</span> <span style='color:#6C22E6;font-size:0.8em;white-space: normal;font-family:verdana;display: inline-block;line-height:30px'>turn&nbsp;</span> <span style='color:#5F6A6A;font-size:1.5499999999999998em;white-space: normal;font-family:verdana;display: inline-block;line-height:30px'>page&nbsp;</span> <span style='color:#223AE6;font-size:0.9500000000000001em;white-space: normal;font-family:verdana;display: inline-block;line-height:30px'>way&nbsp;</span> <span style='color:#6C22E6;font-size:0.8em;white-space: normal;font-family:verdana;display: inline-block;line-height:30px'>pages&nbsp;</span> <span style='color:#223AE6;font-size:0.9500000000000001em;white-space: normal;font-family:verdana;display: inline-block;line-height:30px'>use&nbsp;</span> <span style='color:#223AE6;font-size:0.9500000000000001em;white-space: normal;font-family:verdana;display: inline-block;line-height:30px'>press&nbsp;</span> <span style='color:#6C22E6;font-size:0.8em;white-space: normal;font-family:verdana;display: inline-block;line-height:30px'>time&nbsp;</span> <span style='color:#6C22E6;font-size:0.8em;white-space: normal;font-family:verdana;display: inline-block;line-height:30px'>device&nbsp;</span> <span style='color:#848484;font-size:1.6999999999999997em;white-space: normal;font-family:verdana;display: inline-block;line-height:30px'>buttons&nbsp;</span> <span style='color:#6C22E6;font-size:0.8em;white-space: normal;font-family:verdana;display: inline-block;line-height:30px'>screen&nbsp;</span> <span style='color:#6C22E6;font-size:0.8em;white-space: normal;font-family:verdana;display: inline-block;line-height:30px'>keyboard&nbsp;</span> <span style='color:#223AE6;font-size:0.9500000000000001em;white-space: normal;font-family:verdana;display: inline-block;line-height:30px'>easy&nbsp;</span></div></div>"
      ],
      "text/plain": [
       "<IPython.core.display.HTML object>"
      ]
     },
     "execution_count": 9,
     "metadata": {},
     "output_type": "execute_result"
    }
   ],
   "source": [
    "embed_code=wc.get_embed_code(text=reviews[5],random_color=True,topn=20)\n",
    "HTML(embed_code)"
   ]
  },
  {
   "cell_type": "code",
   "execution_count": 10,
   "metadata": {},
   "outputs": [
    {
     "data": {
      "text/html": [
       "<div align='center' style='width:100%'><div align='center' style='text-align:justify; border-radius: 25px;background: #fff7f7;overflow: auto; width:500px !important; padding:20px; '; text-align: center; word-wrap: break-word;> <span style='color:#5F6A6A;font-size:0.8em;white-space: normal;font-family:verdana;display: inline-block;line-height:30px'>leather&nbsp;</span> <span style='color:#CE22E6;font-size:1.1em;white-space: normal;font-family:verdana;display: inline-block;line-height:30px'>drive&nbsp;</span> <span style='color:#CE22E6;font-size:1.1em;white-space: normal;font-family:verdana;display: inline-block;line-height:30px'>great&nbsp;</span> <span style='color:#2ECC71;font-size:1.25em;white-space: normal;font-family:verdana;display: inline-block;line-height:30px'>seat&nbsp;</span> <span style='color:#5F6A6A;font-size:0.8em;white-space: normal;font-family:verdana;display: inline-block;line-height:30px'>roomy&nbsp;</span> <span style='color:#5F6A6A;font-size:0.8em;white-space: normal;font-family:verdana;display: inline-block;line-height:30px'>fun&nbsp;</span> <span style='color:#5F6A6A;font-size:0.8em;white-space: normal;font-family:verdana;display: inline-block;line-height:30px'>driving&nbsp;</span> <span style='color:#008080;font-size:0.9500000000000001em;white-space: normal;font-family:verdana;display: inline-block;line-height:30px'>driver&nbsp;</span> <span style='color:#ACB02E;font-size:1.4em;white-space: normal;font-family:verdana;display: inline-block;line-height:30px'>car&nbsp;</span> <span style='color:#008080;font-size:0.9500000000000001em;white-space: normal;font-family:verdana;display: inline-block;line-height:30px'>good&nbsp;</span> <span style='color:#008080;font-size:0.9500000000000001em;white-space: normal;font-family:verdana;display: inline-block;line-height:30px'>better&nbsp;</span> <span style='color:#5F6A6A;font-size:0.8em;white-space: normal;font-family:verdana;display: inline-block;line-height:30px'>like&nbsp;</span> <span style='color:#ACB02E;font-size:1.4em;white-space: normal;font-family:verdana;display: inline-block;line-height:30px'>comfort&nbsp;</span> <span style='color:#008080;font-size:0.9500000000000001em;white-space: normal;font-family:verdana;display: inline-block;line-height:30px'>accord&nbsp;</span> <span style='color:#008080;font-size:0.9500000000000001em;white-space: normal;font-family:verdana;display: inline-block;line-height:30px'>interior&nbsp;</span> <span style='color:#CE22E6;font-size:1.1em;white-space: normal;font-family:verdana;display: inline-block;line-height:30px'>uncomfortable&nbsp;</span> <span style='color:#CE22E6;font-size:1.1em;white-space: normal;font-family:verdana;display: inline-block;line-height:30px'>ride&nbsp;</span> <span style='color:#2ECC71;font-size:1.25em;white-space: normal;font-family:verdana;display: inline-block;line-height:30px'>seats&nbsp;</span> <span style='color:#008080;font-size:0.9500000000000001em;white-space: normal;font-family:verdana;display: inline-block;line-height:30px'>vehicle&nbsp;</span> <span style='color:#725394;font-size:1.6999999999999997em;white-space: normal;font-family:verdana;display: inline-block;line-height:30px'>comfortable&nbsp;</span></div></div>"
      ],
      "text/plain": [
       "<IPython.core.display.HTML object>"
      ]
     },
     "execution_count": 10,
     "metadata": {},
     "output_type": "execute_result"
    }
   ],
   "source": [
    "embed_code=wc.get_embed_code(text=reviews[6],random_color=True,topn=20)\n",
    "HTML(embed_code)"
   ]
  },
  {
   "cell_type": "code",
   "execution_count": 11,
   "metadata": {},
   "outputs": [
    {
     "data": {
      "text/html": [
       "<div align='center' style='width:100%'><div align='center' style='text-align:justify; border-radius: 25px;background: #fff7f7;overflow: auto; width:500px !important; padding:20px; '; text-align: center; word-wrap: break-word;> <span style='color:#0489B1;font-size:0.9500000000000001em;white-space: normal;font-family:verdana;display: inline-block;line-height:30px'>good&nbsp;</span> <span style='color:#003366;font-size:1.4em;white-space: normal;font-family:verdana;display: inline-block;line-height:30px'>comfort&nbsp;</span> <span style='color:#008080;font-size:0.8em;white-space: normal;font-family:verdana;display: inline-block;line-height:30px'>drive&nbsp;</span> <span style='color:#0489B1;font-size:0.9500000000000001em;white-space: normal;font-family:verdana;display: inline-block;line-height:30px'>smooth&nbsp;</span> <span style='color:#0489B1;font-size:0.9500000000000001em;white-space: normal;font-family:verdana;display: inline-block;line-height:30px'>looks&nbsp;</span> <span style='color:#0489B1;font-size:0.9500000000000001em;white-space: normal;font-family:verdana;display: inline-block;line-height:30px'>interior&nbsp;</span> <span style='color:#8000FF;font-size:1.25em;white-space: normal;font-family:verdana;display: inline-block;line-height:30px'>ride&nbsp;</span> <span style='color:#0489B1;font-size:0.9500000000000001em;white-space: normal;font-family:verdana;display: inline-block;line-height:30px'>seat&nbsp;</span> <span style='color:#0489B1;font-size:0.9500000000000001em;white-space: normal;font-family:verdana;display: inline-block;line-height:30px'>great&nbsp;</span> <span style='color:#8000FF;font-size:1.25em;white-space: normal;font-family:verdana;display: inline-block;line-height:30px'>car&nbsp;</span> <span style='color:#0489B1;font-size:0.9500000000000001em;white-space: normal;font-family:verdana;display: inline-block;line-height:30px'>uncomfortable&nbsp;</span> <span style='color:#8000FF;font-size:1.25em;white-space: normal;font-family:verdana;display: inline-block;line-height:30px'>seats&nbsp;</span> <span style='color:#223AE6;font-size:1.1em;white-space: normal;font-family:verdana;display: inline-block;line-height:30px'>camry&nbsp;</span> <span style='color:#a55571;font-size:1.8499999999999996em;white-space: normal;font-family:verdana;display: inline-block;line-height:30px'>comfortable&nbsp;</span> <span style='color:#008080;font-size:0.8em;white-space: normal;font-family:verdana;display: inline-block;line-height:30px'>long&nbsp;</span> <span style='color:#223AE6;font-size:1.1em;white-space: normal;font-family:verdana;display: inline-block;line-height:30px'>quiet&nbsp;</span> <span style='color:#0489B1;font-size:0.9500000000000001em;white-space: normal;font-family:verdana;display: inline-block;line-height:30px'>mileage&nbsp;</span> <span style='color:#0489B1;font-size:0.9500000000000001em;white-space: normal;font-family:verdana;display: inline-block;line-height:30px'>gas&nbsp;</span> <span style='color:#008080;font-size:0.8em;white-space: normal;font-family:verdana;display: inline-block;line-height:30px'>road&nbsp;</span> <span style='color:#0489B1;font-size:0.9500000000000001em;white-space: normal;font-family:verdana;display: inline-block;line-height:30px'>room&nbsp;</span></div></div>"
      ],
      "text/plain": [
       "<IPython.core.display.HTML object>"
      ]
     },
     "execution_count": 11,
     "metadata": {},
     "output_type": "execute_result"
    }
   ],
   "source": [
    "embed_code=wc.get_embed_code(text=reviews[7],random_color=True,topn=20)\n",
    "HTML(embed_code)"
   ]
  },
  {
   "cell_type": "code",
   "execution_count": 12,
   "metadata": {},
   "outputs": [
    {
     "data": {
      "text/html": [
       "<div align='center' style='width:100%'><div align='center' style='text-align:justify; border-radius: 25px;background: #fff7f7;overflow: auto; width:500px !important; padding:20px; '; text-align: center; word-wrap: break-word;> <span style='color:#6C22E6;font-size:0.9500000000000001em;white-space: normal;font-family:verdana;display: inline-block;line-height:30px'>accurate&nbsp;</span> <span style='color:#6C22E6;font-size:0.9500000000000001em;white-space: normal;font-family:verdana;display: inline-block;line-height:30px'>garmin&nbsp;</span> <span style='color:#6C22E6;font-size:0.9500000000000001em;white-space: normal;font-family:verdana;display: inline-block;line-height:30px'>easy&nbsp;</span> <span style='color:#6C22E6;font-size:0.9500000000000001em;white-space: normal;font-family:verdana;display: inline-block;line-height:30px'>gps&nbsp;</span> <span style='color:#b82c2c;font-size:0.8em;white-space: normal;font-family:verdana;display: inline-block;line-height:30px'>using&nbsp;</span> <span style='color:#b82c2c;font-size:0.8em;white-space: normal;font-family:verdana;display: inline-block;line-height:30px'>street&nbsp;</span> <span style='color:#6C22E6;font-size:0.9500000000000001em;white-space: normal;font-family:verdana;display: inline-block;line-height:30px'>spoken&nbsp;</span> <span style='color:#6C22E6;font-size:0.9500000000000001em;white-space: normal;font-family:verdana;display: inline-block;line-height:30px'>time&nbsp;</span> <span style='color:#b82c2c;font-size:0.8em;white-space: normal;font-family:verdana;display: inline-block;line-height:30px'>map&nbsp;</span> <span style='color:#6C22E6;font-size:0.9500000000000001em;white-space: normal;font-family:verdana;display: inline-block;line-height:30px'>like&nbsp;</span> <span style='color:#6C22E6;font-size:0.9500000000000001em;white-space: normal;font-family:verdana;display: inline-block;line-height:30px'>voice&nbsp;</span> <span style='color:#3498DB;font-size:1.8499999999999996em;white-space: normal;font-family:verdana;display: inline-block;line-height:30px'>directions&nbsp;</span> <span style='color:#b82c2c;font-size:0.8em;white-space: normal;font-family:verdana;display: inline-block;line-height:30px'>location&nbsp;</span> <span style='color:#b82c2c;font-size:0.8em;white-space: normal;font-family:verdana;display: inline-block;line-height:30px'>set&nbsp;</span> <span style='color:#b82c2c;font-size:0.8em;white-space: normal;font-family:verdana;display: inline-block;line-height:30px'>touch&nbsp;</span> <span style='color:#CE22E6;font-size:1.25em;white-space: normal;font-family:verdana;display: inline-block;line-height:30px'>turn&nbsp;</span> <span style='color:#b82c2c;font-size:0.8em;white-space: normal;font-family:verdana;display: inline-block;line-height:30px'>unit&nbsp;</span> <span style='color:#b82c2c;font-size:0.8em;white-space: normal;font-family:verdana;display: inline-block;line-height:30px'>just&nbsp;</span> <span style='color:#b82c2c;font-size:0.8em;white-space: normal;font-family:verdana;display: inline-block;line-height:30px'>screen&nbsp;</span> <span style='color:#6C22E6;font-size:0.9500000000000001em;white-space: normal;font-family:verdana;display: inline-block;line-height:30px'>maps&nbsp;</span></div></div>"
      ],
      "text/plain": [
       "<IPython.core.display.HTML object>"
      ]
     },
     "execution_count": 12,
     "metadata": {},
     "output_type": "execute_result"
    }
   ],
   "source": [
    "embed_code=wc.get_embed_code(text=reviews[8],random_color=True,topn=20)\n",
    "HTML(embed_code)"
   ]
  },
  {
   "cell_type": "code",
   "execution_count": 13,
   "metadata": {},
   "outputs": [
    {
     "data": {
      "text/html": [
       "<div align='center' style='width:100%'><div align='center' style='text-align:justify; border-radius: 25px;background: #fff7f7;overflow: auto; width:500px !important; padding:20px; '; text-align: center; word-wrap: break-word;> <span style='color:#003366;font-size:0.8em;white-space: normal;font-family:verdana;display: inline-block;line-height:30px'>street&nbsp;</span> <span style='color:#5882FA;font-size:0.9500000000000001em;white-space: normal;font-family:verdana;display: inline-block;line-height:30px'>displays&nbsp;</span> <span style='color:#5882FA;font-size:0.9500000000000001em;white-space: normal;font-family:verdana;display: inline-block;line-height:30px'>screen&nbsp;</span> <span style='color:#3498DB;font-size:1.1em;white-space: normal;font-family:verdana;display: inline-block;line-height:30px'>map&nbsp;</span> <span style='color:#003366;font-size:0.8em;white-space: normal;font-family:verdana;display: inline-block;line-height:30px'>road&nbsp;</span> <span style='color:#5F6A6A;font-size:1.6999999999999997em;white-space: normal;font-family:verdana;display: inline-block;line-height:30px'>display&nbsp;</span> <span style='color:#3498DB;font-size:1.1em;white-space: normal;font-family:verdana;display: inline-block;line-height:30px'>displayed&nbsp;</span> <span style='color:#003366;font-size:0.8em;white-space: normal;font-family:verdana;display: inline-block;line-height:30px'>unit&nbsp;</span> <span style='color:#5882FA;font-size:0.9500000000000001em;white-space: normal;font-family:verdana;display: inline-block;line-height:30px'>really&nbsp;</span> <span style='color:#5882FA;font-size:0.9500000000000001em;white-space: normal;font-family:verdana;display: inline-block;line-height:30px'>turn&nbsp;</span> <span style='color:#003366;font-size:0.8em;white-space: normal;font-family:verdana;display: inline-block;line-height:30px'>time&nbsp;</span> <span style='color:#003366;font-size:0.8em;white-space: normal;font-family:verdana;display: inline-block;line-height:30px'>new&nbsp;</span> <span style='color:#003366;font-size:0.8em;white-space: normal;font-family:verdana;display: inline-block;line-height:30px'>text&nbsp;</span> <span style='color:#003366;font-size:0.8em;white-space: normal;font-family:verdana;display: inline-block;line-height:30px'>zoom&nbsp;</span> <span style='color:#5882FA;font-size:0.9500000000000001em;white-space: normal;font-family:verdana;display: inline-block;line-height:30px'>roads&nbsp;</span> <span style='color:#FA5858;font-size:1.4em;white-space: normal;font-family:verdana;display: inline-block;line-height:30px'>speed&nbsp;</span> <span style='color:#5882FA;font-size:0.9500000000000001em;white-space: normal;font-family:verdana;display: inline-block;line-height:30px'>just&nbsp;</span> <span style='color:#5882FA;font-size:0.9500000000000001em;white-space: normal;font-family:verdana;display: inline-block;line-height:30px'>names&nbsp;</span> <span style='color:#a55571;font-size:1.25em;white-space: normal;font-family:verdana;display: inline-block;line-height:30px'>limit&nbsp;</span> <span style='color:#3498DB;font-size:1.1em;white-space: normal;font-family:verdana;display: inline-block;line-height:30px'>255w&nbsp;</span></div></div>"
      ],
      "text/plain": [
       "<IPython.core.display.HTML object>"
      ]
     },
     "execution_count": 13,
     "metadata": {},
     "output_type": "execute_result"
    }
   ],
   "source": [
    "embed_code=wc.get_embed_code(text=reviews[9],random_color=True,topn=20)\n",
    "HTML(embed_code)"
   ]
  },
  {
   "cell_type": "code",
   "execution_count": null,
   "metadata": {},
   "outputs": [],
   "source": []
  }
 ],
 "metadata": {
  "kernelspec": {
   "display_name": "Python 3",
   "language": "python",
   "name": "python3"
  },
  "language_info": {
   "codemirror_mode": {
    "name": "ipython",
    "version": 3
   },
   "file_extension": ".py",
   "mimetype": "text/x-python",
   "name": "python",
   "nbconvert_exporter": "python",
   "pygments_lexer": "ipython3",
   "version": "3.6.5"
  }
 },
 "nbformat": 4,
 "nbformat_minor": 2
}
