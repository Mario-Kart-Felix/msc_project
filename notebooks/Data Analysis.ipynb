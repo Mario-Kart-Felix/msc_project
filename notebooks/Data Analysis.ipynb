{
 "cells": [
  {
   "cell_type": "code",
   "execution_count": 1,
   "metadata": {},
   "outputs": [],
   "source": [
    "\n",
    "import nltk\n",
    "                \n",
    "class DatasetAnalyser(object):\n",
    "    '''\n",
    "    This class contains and implements all the methods responsible for \n",
    "    dataset analysis.\n",
    "    '''\n",
    "    def __init__(self, dataset):\n",
    "        self.dataset = dataset\n",
    "        \n",
    "        \n",
    "    def avg_document_length(self):\n",
    "        '''\n",
    "        Calculates the average length of the documents in the dataset. The length\n",
    "        is measured based on the characters. This method reminds me of my school years\n",
    "        when writing methods to calculate avergae was a stanard procedure! \n",
    "        '''\n",
    "        sum = 0 \n",
    "        for document in self.dataset:\n",
    "            sum += len(document.content.raw)\n",
    "        return float(sum)/float(len(self.dataset))\n",
    "    \n",
    "    def vocabulary_size(self):\n",
    "        '''\n",
    "        It calculates how many different words appear in this dataset\n",
    "        '''\n",
    "        corpus = nltk.TextCollection([document.content.tokens for document in self.dataset])\n",
    "        return len(set(corpus))\n",
    "        \n",
    "    def avg_vocabulary_size(self):\n",
    "        '''\n",
    "        Calculates the average vocabulary size. In plain English\n",
    "        it calculates how many different words appear in each document on average.\n",
    "        '''\n",
    "        return float(self.vocabulary_size())/float(len(self.dataset))\n",
    "\n",
    "    def dataset_size(self):\n",
    "        return len(self.dataset)"
   ]
  },
  {
   "cell_type": "code",
   "execution_count": null,
   "metadata": {},
   "outputs": [],
   "source": []
  }
 ],
 "metadata": {
  "kernelspec": {
   "display_name": "Python 3",
   "language": "python",
   "name": "python3"
  },
  "language_info": {
   "codemirror_mode": {
    "name": "ipython",
    "version": 3
   },
   "file_extension": ".py",
   "mimetype": "text/x-python",
   "name": "python",
   "nbconvert_exporter": "python",
   "pygments_lexer": "ipython3",
   "version": "3.6.5"
  }
 },
 "nbformat": 4,
 "nbformat_minor": 2
}
