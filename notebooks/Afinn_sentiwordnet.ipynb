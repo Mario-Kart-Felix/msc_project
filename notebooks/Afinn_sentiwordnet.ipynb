{
 "cells": [
  {
   "cell_type": "code",
   "execution_count": 50,
   "metadata": {},
   "outputs": [
    {
     "data": {
      "image/png": "[encoded data removed]",
      "text/plain": [
       "<Figure size 432x288 with 1 Axes>"
      ]
     },
     "metadata": {},
     "output_type": "display_data"
    }
   ],
   "source": [
    "import nltk\n",
    "import pandas as pd\n",
    "import glob\n",
    "from nltk.corpus import sentiwordnet as swn\n",
    "import matplotlib.pyplot as plt\n",
    "import seaborn as sns\n",
    "import re\n",
    "\n",
    "# initialize afinn sentiment analyzer\n",
    "from afinn import Afinn\n",
    "\n",
    "af = Afinn()\n",
    "# Import the data set \n",
    "path = r'../data/raw/OpinosisDataset1.0_0/topics/'\n",
    "allFiles = glob.glob(path + \"/*.data\")\n",
    "reviews = list()\n",
    "summaries = list()\n",
    "for file_ in allFiles:\n",
    "    with open(file_, \"r\") as f:\n",
    "        review = f.readlines()\n",
    "        filename_search = re.search(r'[^\\\\/:*?\"<>|\\r\\n]+$', file_)\n",
    "        filename_parts = filename_search.group()\n",
    "        filename = filename_parts.split('.')[0] + '.jpg'\n",
    "        # compute sentiment scores (polarity) and labels\n",
    "        sentiment_scores = [af.score(r) for r in review]\n",
    "        sentiment_category = ['positive' if score > 0 \n",
    "                              else 'negative' if score < 0 \n",
    "                              else 'neutral' for score in sentiment_scores]\n",
    "        # sentiment statistics per news category\n",
    "        df = pd.DataFrame([sentiment_scores, sentiment_category]).T\n",
    "        df.columns = ['sentiment_score', 'sentiment_category']\n",
    "        df['sentiment_score'] = df.sentiment_score.astype('float')\n",
    "        sns.set(style=\"whitegrid\")\n",
    "        bp = sns.boxplot( y=\"sentiment_score\", \n",
    "                 data=df)\n",
    "        bp.set(ylim=(-20, 20))\n",
    "        bp.figure.savefig(r'../data/processed/sentiment/' + filename)"
   ]
  },
  {
   "cell_type": "code",
   "execution_count": 24,
   "metadata": {},
   "outputs": [
    {
     "data": {
      "image/png": "[encoded data removed]",
      "text/plain": [
       "<Figure size 432x288 with 1 Axes>"
      ]
     },
     "metadata": {},
     "output_type": "display_data"
    }
   ],
   "source": [
    "#f, (ax1, ax2) = plt.subplots(1, 2, figsize=(14, 4))\n",
    "#sp = sns.stripplot(y=\"sentiment_score\", data=df, ax=ax1)\n",
    "sns.set(style=\"whitegrid\")\n",
    "bp = sns.boxplot( y=\"sentiment_score\", \n",
    "                 data=df)\n",
    "#sp.set(ylim=(-20, 20))\n",
    "#sp.axhline(0, color='black')\n",
    "bp.set(ylim=(-20, 20))\n",
    "bp.axhline(0, color='grey')\n",
    "\n",
    "t = f.suptitle('Visualizing Review Sentiment', fontsize=14)"
   ]
  },
  {
   "cell_type": "code",
   "execution_count": null,
   "metadata": {},
   "outputs": [],
   "source": []
  }
 ],
 "metadata": {
  "kernelspec": {
   "display_name": "Python 3",
   "language": "python",
   "name": "python3"
  },
  "language_info": {
   "codemirror_mode": {
    "name": "ipython",
    "version": 3
   },
   "file_extension": ".py",
   "mimetype": "text/x-python",
   "name": "python",
   "nbconvert_exporter": "python",
   "pygments_lexer": "ipython3",
   "version": "3.6.5"
  }
 },
 "nbformat": 4,
 "nbformat_minor": 2
}
